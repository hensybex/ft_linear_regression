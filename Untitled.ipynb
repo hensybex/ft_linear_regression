{
 "cells": [
  {
   "cell_type": "code",
   "execution_count": 1,
   "metadata": {},
   "outputs": [],
   "source": [
    "# импортируем все нужные нам библиотеки\n",
    "import pandas as pd\n",
    "import numpy as np\n",
    "import matplotlib.pyplot as plt\n",
    "import math\n",
    "import pylab as pl\n",
    "import random"
   ]
  },
  {
   "cell_type": "code",
   "execution_count": 2,
   "metadata": {},
   "outputs": [],
   "source": [
    "# импортируем все нужные нам библиотеки\n",
    "import pandas as pd\n",
    "import numpy as np\n",
    "import matplotlib.pyplot as plt\n",
    "import math\n",
    "import pylab as pl\n",
    "import random"
   ]
  },
  {
   "cell_type": "code",
   "execution_count": 3,
   "metadata": {},
   "outputs": [],
   "source": [
    "# укажем размер графиков\n",
    "from pylab import rcParams\n",
    "rcParams['figure.figsize'] = 12, 6"
   ]
  },
  {
   "cell_type": "code",
   "execution_count": 4,
   "metadata": {},
   "outputs": [],
   "source": [
    "# отключим предупреждения Anaconda\n",
    "import warnings\n",
    "warnings.simplefilter('ignore')"
   ]
  },
  {
   "cell_type": "code",
   "execution_count": 5,
   "metadata": {},
   "outputs": [],
   "source": [
    "# загрузим значения\n",
    "table_zero = pd.read_csv('test_data.csv', header=0, sep=',')"
   ]
  },
  {
   "cell_type": "code",
   "execution_count": 6,
   "metadata": {},
   "outputs": [
    {
     "name": "stdout",
     "output_type": "stream",
     "text": [
      "<class 'pandas.core.frame.DataFrame'>\n",
      "RangeIndex: 5 entries, 0 to 4\n",
      "Data columns (total 2 columns):\n",
      " #   Column   Non-Null Count  Dtype  \n",
      "---  ------   --------------  -----  \n",
      " 0   month    5 non-null      int64  \n",
      " 1   revenue  5 non-null      float64\n",
      "dtypes: float64(1), int64(1)\n",
      "memory usage: 208.0 bytes\n",
      "None\n",
      "********************************************\n",
      "   month  revenue\n",
      "0      1      5.3\n",
      "1      2      6.3\n",
      "2      3      4.8\n",
      "3      4      3.8\n",
      "4      5      3.3\n",
      "********************************************\n"
     ]
    }
   ],
   "source": [
    "# посмотрим информацию о таблице и на саму таблицу\n",
    "print (table_zero.info())\n",
    "print ('********************************************')\n",
    "print (table_zero)\n",
    "print ('********************************************')"
   ]
  },
  {
   "cell_type": "code",
   "execution_count": 7,
   "metadata": {},
   "outputs": [
    {
     "name": "stdout",
     "output_type": "stream",
     "text": [
      "[1.0, 2.0, 3.0, 4.0, 5.0]\n",
      "<class 'list'>\n",
      "********************************************\n",
      "[5.3, 6.3, 4.8, 3.8, 3.3]\n",
      "<class 'list'>\n",
      "********************************************\n"
     ]
    }
   ],
   "source": [
    "# подготовим данные без использования NumPy\n",
    "\n",
    "x_us = []\n",
    "for i in table_zero['month']:\n",
    "    x_us.append(float(i))\n",
    "print (x_us)\n",
    "print (type(x_us))\n",
    "print ('********************************************')\n",
    "\n",
    "y_us = []\n",
    "[y_us.append(float(i)) for i in table_zero['revenue']]\n",
    "print (y_us)\n",
    "print (type(y_us))\n",
    "print ('********************************************')"
   ]
  },
  {
   "cell_type": "code",
   "execution_count": 8,
   "metadata": {},
   "outputs": [
    {
     "name": "stdout",
     "output_type": "stream",
     "text": [
      "График №1 \"Зависимость выручки от месяца года\"\n"
     ]
    },
    {
     "data": {
      "image/png": "[encoded data removed]",
      "text/plain": [
       "<Figure size 864x432 with 1 Axes>"
      ]
     },
     "metadata": {
      "needs_background": "light"
     },
     "output_type": "display_data"
    }
   ],
   "source": [
    "print('График №1 \"Зависимость выручки от месяца года\"')\n",
    "\n",
    "plt.plot(x_us,y_us,'o',color='green',markersize=16)\n",
    "plt.xlabel('$Months$', size=16)\n",
    "plt.ylabel('$Sales$', size=16)\n",
    "plt.show()"
   ]
  }
 ],
 "metadata": {
  "kernelspec": {
   "display_name": "Python 3",
   "language": "python",
   "name": "python3"
  },
  "language_info": {
   "codemirror_mode": {
    "name": "ipython",
    "version": 3
   },
   "file_extension": ".py",
   "mimetype": "text/x-python",
   "name": "python",
   "nbconvert_exporter": "python",
   "pygments_lexer": "ipython3",
   "version": "3.7.6"
  }
 },
 "nbformat": 4,
 "nbformat_minor": 4
}
